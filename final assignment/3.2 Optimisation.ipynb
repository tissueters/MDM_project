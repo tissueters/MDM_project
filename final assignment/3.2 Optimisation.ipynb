{
 "cells": [
  {
   "cell_type": "code",
   "execution_count": 7,
   "id": "initial_id",
   "metadata": {
    "ExecuteTime": {
     "end_time": "2025-06-09T22:19:57.323004Z",
     "start_time": "2025-06-09T22:19:57.318100Z"
    },
    "collapsed": true
   },
   "outputs": [],
   "source": [
    "import matplotlib.pyplot as plt\n",
    "import numpy as np\n",
    "import pandas as pd\n",
    "import copy\n",
    "import os\n",
    "import seaborn as sns"
   ]
  },
  {
   "cell_type": "code",
   "execution_count": 8,
   "id": "afddce29c8e11aac",
   "metadata": {
    "ExecuteTime": {
     "end_time": "2025-06-09T22:20:01.874983Z",
     "start_time": "2025-06-09T22:19:59.369040Z"
    }
   },
   "outputs": [],
   "source": [
    "from problem_formulation import get_model_for_problem_formulation\n",
    "from ema_workbench import ema_logging\n",
    "from ema_workbench import MultiprocessingEvaluator\n",
    "\n",
    "from ema_workbench.analysis import parcoords"
   ]
  },
  {
   "cell_type": "code",
   "execution_count": 9,
   "id": "34cac034b5a6b452",
   "metadata": {
    "ExecuteTime": {
     "end_time": "2025-06-09T22:20:03.453337Z",
     "start_time": "2025-06-09T22:20:02.919503Z"
    }
   },
   "outputs": [],
   "source": [
    "ema_logging.log_to_stderr(ema_logging.INFO)\n",
    "\n",
    "\"\"\"\n",
    "    Parameters\n",
    "    ----------\n",
    "    problem_formulation_id : int {0, ..., 6}\n",
    "                             problem formulations differ with respect to the objectives\n",
    "                             0: Total cost, and casualties\n",
    "                             1: Expected damages, costs, and casualties\n",
    "                             2: expected damages, dike investment costs, rfr costs, evacuation cost, and casualties\n",
    "                             3: costs and casualties disaggregated over dike rings, and room for the river and evacuation costs\n",
    "                             4: Expected damages, dike investment cost and casualties disaggregated over dike rings and room for the river and evacuation costs\n",
    "                             5: disaggregate over time and space\n",
    "                             6: Same as 3 but only aggregated for Gelderland, NOTE Expected annual damage only represents Gelderland\n",
    "\n",
    "    \"\"\"\n",
    "problem_formulation = 6  # Change this to the desired problem formulation ID\n",
    "dike_model, planning_steps = get_model_for_problem_formulation(problem_formulation)"
   ]
  },
  {
   "cell_type": "code",
   "execution_count": 10,
   "id": "bf5c4e8dace4bc1b",
   "metadata": {
    "ExecuteTime": {
     "end_time": "2025-06-09T22:20:05.650015Z",
     "start_time": "2025-06-09T22:20:05.601760Z"
    }
   },
   "outputs": [
    {
     "name": "stdout",
     "output_type": "stream",
     "text": [
      "CategoricalParameter('discount rate 0', [0, 1, 2, 3])\n",
      "CategoricalParameter('discount rate 1', [0, 1, 2, 3])\n",
      "CategoricalParameter('discount rate 2', [0, 1, 2, 3])\n",
      "IntegerParameter('A.0_ID flood wave shape', 0, 132, resolution=None, default=None, variable_name=['A.0_ID flood wave shape'], pff=False)\n",
      "RealParameter('A.1_Bmax', 30, 350, resolution=None, default=None, variable_name=['A.1_Bmax'], pff=False)\n",
      "RealParameter('A.1_pfail', 0, 1, resolution=None, default=None, variable_name=['A.1_pfail'], pff=False)\n",
      "CategoricalParameter('A.1_Brate', [0, 1, 2])\n",
      "RealParameter('A.2_Bmax', 30, 350, resolution=None, default=None, variable_name=['A.2_Bmax'], pff=False)\n",
      "RealParameter('A.2_pfail', 0, 1, resolution=None, default=None, variable_name=['A.2_pfail'], pff=False)\n",
      "CategoricalParameter('A.2_Brate', [0, 1, 2])\n",
      "RealParameter('A.3_Bmax', 30, 350, resolution=None, default=None, variable_name=['A.3_Bmax'], pff=False)\n",
      "RealParameter('A.3_pfail', 0, 1, resolution=None, default=None, variable_name=['A.3_pfail'], pff=False)\n",
      "CategoricalParameter('A.3_Brate', [0, 1, 2])\n",
      "RealParameter('A.4_Bmax', 30, 350, resolution=None, default=None, variable_name=['A.4_Bmax'], pff=False)\n",
      "RealParameter('A.4_pfail', 0, 1, resolution=None, default=None, variable_name=['A.4_pfail'], pff=False)\n",
      "CategoricalParameter('A.4_Brate', [0, 1, 2])\n",
      "RealParameter('A.5_Bmax', 30, 350, resolution=None, default=None, variable_name=['A.5_Bmax'], pff=False)\n",
      "RealParameter('A.5_pfail', 0, 1, resolution=None, default=None, variable_name=['A.5_pfail'], pff=False)\n",
      "CategoricalParameter('A.5_Brate', [0, 1, 2])\n",
      "IntegerParameter('0_RfR 0', 0, 1, resolution=None, default=None, variable_name=['0_RfR 0'], pff=False)\n",
      "IntegerParameter('0_RfR 1', 0, 1, resolution=None, default=None, variable_name=['0_RfR 1'], pff=False)\n",
      "IntegerParameter('0_RfR 2', 0, 1, resolution=None, default=None, variable_name=['0_RfR 2'], pff=False)\n",
      "IntegerParameter('1_RfR 0', 0, 1, resolution=None, default=None, variable_name=['1_RfR 0'], pff=False)\n",
      "IntegerParameter('1_RfR 1', 0, 1, resolution=None, default=None, variable_name=['1_RfR 1'], pff=False)\n",
      "IntegerParameter('1_RfR 2', 0, 1, resolution=None, default=None, variable_name=['1_RfR 2'], pff=False)\n",
      "IntegerParameter('2_RfR 0', 0, 1, resolution=None, default=None, variable_name=['2_RfR 0'], pff=False)\n",
      "IntegerParameter('2_RfR 1', 0, 1, resolution=None, default=None, variable_name=['2_RfR 1'], pff=False)\n",
      "IntegerParameter('2_RfR 2', 0, 1, resolution=None, default=None, variable_name=['2_RfR 2'], pff=False)\n",
      "IntegerParameter('3_RfR 0', 0, 1, resolution=None, default=None, variable_name=['3_RfR 0'], pff=False)\n",
      "IntegerParameter('3_RfR 1', 0, 1, resolution=None, default=None, variable_name=['3_RfR 1'], pff=False)\n",
      "IntegerParameter('3_RfR 2', 0, 1, resolution=None, default=None, variable_name=['3_RfR 2'], pff=False)\n",
      "IntegerParameter('4_RfR 0', 0, 1, resolution=None, default=None, variable_name=['4_RfR 0'], pff=False)\n",
      "IntegerParameter('4_RfR 1', 0, 1, resolution=None, default=None, variable_name=['4_RfR 1'], pff=False)\n",
      "IntegerParameter('4_RfR 2', 0, 1, resolution=None, default=None, variable_name=['4_RfR 2'], pff=False)\n",
      "IntegerParameter('EWS_DaysToThreat', 0, 4, resolution=None, default=None, variable_name=['EWS_DaysToThreat'], pff=False)\n",
      "IntegerParameter('A.1_DikeIncrease 0', 0, 10, resolution=None, default=None, variable_name=['A.1_DikeIncrease 0'], pff=False)\n",
      "IntegerParameter('A.1_DikeIncrease 1', 0, 10, resolution=None, default=None, variable_name=['A.1_DikeIncrease 1'], pff=False)\n",
      "IntegerParameter('A.1_DikeIncrease 2', 0, 10, resolution=None, default=None, variable_name=['A.1_DikeIncrease 2'], pff=False)\n",
      "IntegerParameter('A.2_DikeIncrease 0', 0, 10, resolution=None, default=None, variable_name=['A.2_DikeIncrease 0'], pff=False)\n",
      "IntegerParameter('A.2_DikeIncrease 1', 0, 10, resolution=None, default=None, variable_name=['A.2_DikeIncrease 1'], pff=False)\n",
      "IntegerParameter('A.2_DikeIncrease 2', 0, 10, resolution=None, default=None, variable_name=['A.2_DikeIncrease 2'], pff=False)\n",
      "IntegerParameter('A.3_DikeIncrease 0', 0, 10, resolution=None, default=None, variable_name=['A.3_DikeIncrease 0'], pff=False)\n",
      "IntegerParameter('A.3_DikeIncrease 1', 0, 10, resolution=None, default=None, variable_name=['A.3_DikeIncrease 1'], pff=False)\n",
      "IntegerParameter('A.3_DikeIncrease 2', 0, 10, resolution=None, default=None, variable_name=['A.3_DikeIncrease 2'], pff=False)\n",
      "IntegerParameter('A.4_DikeIncrease 0', 0, 10, resolution=None, default=None, variable_name=['A.4_DikeIncrease 0'], pff=False)\n",
      "IntegerParameter('A.4_DikeIncrease 1', 0, 10, resolution=None, default=None, variable_name=['A.4_DikeIncrease 1'], pff=False)\n",
      "IntegerParameter('A.4_DikeIncrease 2', 0, 10, resolution=None, default=None, variable_name=['A.4_DikeIncrease 2'], pff=False)\n",
      "IntegerParameter('A.5_DikeIncrease 0', 0, 10, resolution=None, default=None, variable_name=['A.5_DikeIncrease 0'], pff=False)\n",
      "IntegerParameter('A.5_DikeIncrease 1', 0, 10, resolution=None, default=None, variable_name=['A.5_DikeIncrease 1'], pff=False)\n",
      "IntegerParameter('A.5_DikeIncrease 2', 0, 10, resolution=None, default=None, variable_name=['A.5_DikeIncrease 2'], pff=False)\n"
     ]
    }
   ],
   "source": [
    "for unc in dike_model.uncertainties:\n",
    "    print(repr(unc))\n",
    "\n",
    "uncertainties = copy.deepcopy(dike_model.uncertainties)\n",
    "for policy in dike_model.levers:\n",
    "    print(repr(policy))\n",
    "\n",
    "levers = copy.deepcopy(dike_model.levers)\n"
   ]
  },
  {
   "cell_type": "code",
   "execution_count": null,
   "id": "12796091",
   "metadata": {},
   "outputs": [
    {
     "name": "stdout",
     "output_type": "stream",
     "text": [
      "A.1 Total Costs: kind=0\n",
      "A.1_Expected Number of Deaths: kind=0\n",
      "A.2 Total Costs: kind=0\n",
      "A.2_Expected Number of Deaths: kind=0\n",
      "A.3 Total Costs: kind=0\n",
      "A.3_Expected Number of Deaths: kind=0\n",
      "Expected Evacuation Costs: kind=0\n",
      "Expected Annual Damage: kind=-1\n",
      "Expected Number of Deaths: kind=-1\n"
     ]
    }
   ],
   "source": [
    "from ema_workbench import ScalarOutcome\n",
    "\n",
    "# List of outcomes you want to optimize\n",
    "objectives = ['Expected Annual Damage', 'Expected Number of Deaths']\n",
    "\n",
    "# Loop over all outcomes\n",
    "for outcome in dike_model.outcomes:\n",
    "    if outcome.name in objectives:\n",
    "        outcome.kind = ScalarOutcome.MINIMIZE \n",
    "    else:\n",
    "        outcome.kind = ScalarOutcome.INFO  # neutral, will be ignored in optimization\n",
    "\n",
    "\n",
    "for outcome in dike_model.outcomes:\n",
    "    print(f\"{outcome.name}: kind={outcome.kind}\")\n",
    "\n"
   ]
  },
  {
   "cell_type": "code",
   "execution_count": null,
   "id": "1784d64ab7cb75e9",
   "metadata": {
    "ExecuteTime": {
     "end_time": "2025-06-09T22:45:59.188619Z",
     "start_time": "2025-06-09T22:20:13.069756Z"
    }
   },
   "outputs": [
    {
     "name": "stderr",
     "output_type": "stream",
     "text": [
      "[MainProcess/INFO] pool started with 16 workers\n",
      "  0%|                                                 | 0/5000 [00:00<?, ?it/s]"
     ]
    }
   ],
   "source": [
    "from ema_workbench.em_framework.optimization import ArchiveLogger, EpsilonProgress\n",
    "# convergence_metrics = [\n",
    "#     ArchiveLogger('data/test_runs', [l.name for l in dike_model.levers], \n",
    "#                   [o.name for o in dike_model.outcomes], \n",
    "#                   base_filename='pf6_run.tar.gz'),\n",
    "#     EpsilonProgress()\n",
    "# ]\n",
    "\n",
    "with MultiprocessingEvaluator(dike_model) as evaluator:\n",
    "    results1, convergence = evaluator.optimize(nfe=5000, searchover='levers',  epsilons=[0.25, 0.1],)"
   ]
  },
  {
   "cell_type": "code",
   "execution_count": null,
   "id": "2fef8877b831384",
   "metadata": {},
   "outputs": [],
   "source": [
    "data = results1.loc[:, [o.name for o in dike_model.outcomes]]\n",
    "limits = parcoords.get_limits(data)\n",
    "\n",
    "paraxes = parcoords.ParallelAxes(limits)\n",
    "paraxes.plot(data)\n",
    "plt.show()"
   ]
  }
 ],
 "metadata": {
  "kernelspec": {
   "display_name": "gds24",
   "language": "python",
   "name": "python3"
  },
  "language_info": {
   "codemirror_mode": {
    "name": "ipython",
    "version": 3
   },
   "file_extension": ".py",
   "mimetype": "text/x-python",
   "name": "python",
   "nbconvert_exporter": "python",
   "pygments_lexer": "ipython3",
   "version": "3.10.15"
  }
 },
 "nbformat": 4,
 "nbformat_minor": 5
}
