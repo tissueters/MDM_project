{
 "cells": [
  {
   "cell_type": "code",
   "execution_count": 1,
   "id": "initial_id",
   "metadata": {
    "ExecuteTime": {
     "end_time": "2025-06-09T22:19:57.323004Z",
     "start_time": "2025-06-09T22:19:57.318100Z"
    },
    "collapsed": true
   },
   "outputs": [],
   "source": [
    "import matplotlib.pyplot as plt\n",
    "import numpy as np\n",
    "import pandas as pd\n",
    "import copy\n",
    "import os\n",
    "import seaborn as sns"
   ]
  },
  {
   "cell_type": "code",
   "execution_count": 2,
   "id": "afddce29c8e11aac",
   "metadata": {
    "ExecuteTime": {
     "end_time": "2025-06-09T22:20:01.874983Z",
     "start_time": "2025-06-09T22:19:59.369040Z"
    }
   },
   "outputs": [
    {
     "name": "stderr",
     "output_type": "stream",
     "text": [
      "c:\\Users\\juliu\\Anaconda3\\envs\\gds24\\lib\\site-packages\\ema_workbench\\em_framework\\__init__.py:101: UserWarning: ipyparallel not installed - IpyparalleEvaluator not available\n",
      "  warnings.warn(\"ipyparallel not installed - IpyparalleEvaluator not available\")\n"
     ]
    }
   ],
   "source": [
    "from problem_formulation import get_model_for_problem_formulation\n",
    "from ema_workbench import ema_logging\n",
    "from ema_workbench import MultiprocessingEvaluator\n",
    "\n",
    "from ema_workbench.analysis import parcoords"
   ]
  },
  {
   "cell_type": "code",
   "execution_count": 3,
   "id": "34cac034b5a6b452",
   "metadata": {
    "ExecuteTime": {
     "end_time": "2025-06-09T22:20:03.453337Z",
     "start_time": "2025-06-09T22:20:02.919503Z"
    }
   },
   "outputs": [],
   "source": [
    "ema_logging.log_to_stderr(ema_logging.INFO)\n",
    "\n",
    "\"\"\"\n",
    "    Parameters\n",
    "    ----------\n",
    "    problem_formulation_id : int {0, ..., 6}\n",
    "                             problem formulations differ with respect to the objectives\n",
    "                             0: Total cost, and casualties\n",
    "                             1: Expected damages, costs, and casualties\n",
    "                             2: expected damages, dike investment costs, rfr costs, evacuation cost, and casualties\n",
    "                             3: costs and casualties disaggregated over dike rings, and room for the river and evacuation costs\n",
    "                             4: Expected damages, dike investment cost and casualties disaggregated over dike rings and room for the river and evacuation costs\n",
    "                             5: disaggregate over time and space\n",
    "                             6: Same as 3 but only aggregated for Gelderland, NOTE Expected annual damage only represents Gelderland\n",
    "                             7: Also added total rfr and total dike_investment\n",
    "\n",
    "    \"\"\"\n",
    "problem_formulation = 7  # Change this to the desired problem formulation ID\n",
    "dike_model, planning_steps = get_model_for_problem_formulation(problem_formulation)"
   ]
  },
  {
   "cell_type": "code",
   "execution_count": 4,
   "id": "bf5c4e8dace4bc1b",
   "metadata": {
    "ExecuteTime": {
     "end_time": "2025-06-09T22:20:05.650015Z",
     "start_time": "2025-06-09T22:20:05.601760Z"
    }
   },
   "outputs": [
    {
     "name": "stdout",
     "output_type": "stream",
     "text": [
      "CategoricalParameter('discount rate 0', [0, 1, 2, 3])\n",
      "CategoricalParameter('discount rate 1', [0, 1, 2, 3])\n",
      "CategoricalParameter('discount rate 2', [0, 1, 2, 3])\n",
      "IntegerParameter('A.0_ID flood wave shape', 0, 132, resolution=None, default=None, variable_name=['A.0_ID flood wave shape'], pff=False)\n",
      "RealParameter('A.1_Bmax', 30, 350, resolution=None, default=None, variable_name=['A.1_Bmax'], pff=False)\n",
      "RealParameter('A.1_pfail', 0, 1, resolution=None, default=None, variable_name=['A.1_pfail'], pff=False)\n",
      "CategoricalParameter('A.1_Brate', [0, 1, 2])\n",
      "RealParameter('A.2_Bmax', 30, 350, resolution=None, default=None, variable_name=['A.2_Bmax'], pff=False)\n",
      "RealParameter('A.2_pfail', 0, 1, resolution=None, default=None, variable_name=['A.2_pfail'], pff=False)\n",
      "CategoricalParameter('A.2_Brate', [0, 1, 2])\n",
      "RealParameter('A.3_Bmax', 30, 350, resolution=None, default=None, variable_name=['A.3_Bmax'], pff=False)\n",
      "RealParameter('A.3_pfail', 0, 1, resolution=None, default=None, variable_name=['A.3_pfail'], pff=False)\n",
      "CategoricalParameter('A.3_Brate', [0, 1, 2])\n",
      "RealParameter('A.4_Bmax', 30, 350, resolution=None, default=None, variable_name=['A.4_Bmax'], pff=False)\n",
      "RealParameter('A.4_pfail', 0, 1, resolution=None, default=None, variable_name=['A.4_pfail'], pff=False)\n",
      "CategoricalParameter('A.4_Brate', [0, 1, 2])\n",
      "RealParameter('A.5_Bmax', 30, 350, resolution=None, default=None, variable_name=['A.5_Bmax'], pff=False)\n",
      "RealParameter('A.5_pfail', 0, 1, resolution=None, default=None, variable_name=['A.5_pfail'], pff=False)\n",
      "CategoricalParameter('A.5_Brate', [0, 1, 2])\n",
      "IntegerParameter('0_RfR 0', 0, 1, resolution=None, default=None, variable_name=['0_RfR 0'], pff=False)\n",
      "IntegerParameter('0_RfR 1', 0, 1, resolution=None, default=None, variable_name=['0_RfR 1'], pff=False)\n",
      "IntegerParameter('0_RfR 2', 0, 1, resolution=None, default=None, variable_name=['0_RfR 2'], pff=False)\n",
      "IntegerParameter('1_RfR 0', 0, 1, resolution=None, default=None, variable_name=['1_RfR 0'], pff=False)\n",
      "IntegerParameter('1_RfR 1', 0, 1, resolution=None, default=None, variable_name=['1_RfR 1'], pff=False)\n",
      "IntegerParameter('1_RfR 2', 0, 1, resolution=None, default=None, variable_name=['1_RfR 2'], pff=False)\n",
      "IntegerParameter('2_RfR 0', 0, 1, resolution=None, default=None, variable_name=['2_RfR 0'], pff=False)\n",
      "IntegerParameter('2_RfR 1', 0, 1, resolution=None, default=None, variable_name=['2_RfR 1'], pff=False)\n",
      "IntegerParameter('2_RfR 2', 0, 1, resolution=None, default=None, variable_name=['2_RfR 2'], pff=False)\n",
      "IntegerParameter('3_RfR 0', 0, 1, resolution=None, default=None, variable_name=['3_RfR 0'], pff=False)\n",
      "IntegerParameter('3_RfR 1', 0, 1, resolution=None, default=None, variable_name=['3_RfR 1'], pff=False)\n",
      "IntegerParameter('3_RfR 2', 0, 1, resolution=None, default=None, variable_name=['3_RfR 2'], pff=False)\n",
      "IntegerParameter('4_RfR 0', 0, 1, resolution=None, default=None, variable_name=['4_RfR 0'], pff=False)\n",
      "IntegerParameter('4_RfR 1', 0, 1, resolution=None, default=None, variable_name=['4_RfR 1'], pff=False)\n",
      "IntegerParameter('4_RfR 2', 0, 1, resolution=None, default=None, variable_name=['4_RfR 2'], pff=False)\n",
      "IntegerParameter('EWS_DaysToThreat', 0, 4, resolution=None, default=None, variable_name=['EWS_DaysToThreat'], pff=False)\n",
      "IntegerParameter('A.1_DikeIncrease 0', 0, 10, resolution=None, default=None, variable_name=['A.1_DikeIncrease 0'], pff=False)\n",
      "IntegerParameter('A.1_DikeIncrease 1', 0, 10, resolution=None, default=None, variable_name=['A.1_DikeIncrease 1'], pff=False)\n",
      "IntegerParameter('A.1_DikeIncrease 2', 0, 10, resolution=None, default=None, variable_name=['A.1_DikeIncrease 2'], pff=False)\n",
      "IntegerParameter('A.2_DikeIncrease 0', 0, 10, resolution=None, default=None, variable_name=['A.2_DikeIncrease 0'], pff=False)\n",
      "IntegerParameter('A.2_DikeIncrease 1', 0, 10, resolution=None, default=None, variable_name=['A.2_DikeIncrease 1'], pff=False)\n",
      "IntegerParameter('A.2_DikeIncrease 2', 0, 10, resolution=None, default=None, variable_name=['A.2_DikeIncrease 2'], pff=False)\n",
      "IntegerParameter('A.3_DikeIncrease 0', 0, 10, resolution=None, default=None, variable_name=['A.3_DikeIncrease 0'], pff=False)\n",
      "IntegerParameter('A.3_DikeIncrease 1', 0, 10, resolution=None, default=None, variable_name=['A.3_DikeIncrease 1'], pff=False)\n",
      "IntegerParameter('A.3_DikeIncrease 2', 0, 10, resolution=None, default=None, variable_name=['A.3_DikeIncrease 2'], pff=False)\n",
      "IntegerParameter('A.4_DikeIncrease 0', 0, 10, resolution=None, default=None, variable_name=['A.4_DikeIncrease 0'], pff=False)\n",
      "IntegerParameter('A.4_DikeIncrease 1', 0, 10, resolution=None, default=None, variable_name=['A.4_DikeIncrease 1'], pff=False)\n",
      "IntegerParameter('A.4_DikeIncrease 2', 0, 10, resolution=None, default=None, variable_name=['A.4_DikeIncrease 2'], pff=False)\n",
      "IntegerParameter('A.5_DikeIncrease 0', 0, 10, resolution=None, default=None, variable_name=['A.5_DikeIncrease 0'], pff=False)\n",
      "IntegerParameter('A.5_DikeIncrease 1', 0, 10, resolution=None, default=None, variable_name=['A.5_DikeIncrease 1'], pff=False)\n",
      "IntegerParameter('A.5_DikeIncrease 2', 0, 10, resolution=None, default=None, variable_name=['A.5_DikeIncrease 2'], pff=False)\n"
     ]
    }
   ],
   "source": [
    "for unc in dike_model.uncertainties:\n",
    "    print(repr(unc))\n",
    "\n",
    "uncertainties = copy.deepcopy(dike_model.uncertainties)\n",
    "for policy in dike_model.levers:\n",
    "    print(repr(policy))\n",
    "\n",
    "levers = copy.deepcopy(dike_model.levers)\n"
   ]
  },
  {
   "cell_type": "code",
   "execution_count": 5,
   "id": "12796091",
   "metadata": {},
   "outputs": [
    {
     "name": "stdout",
     "output_type": "stream",
     "text": [
      "Expected Annual Damage: kind=-1\n",
      "Dike Investment Costs: kind=-1\n",
      "RfR Total Costs: kind=-1\n",
      "Evacuation Costs: kind=-1\n",
      "Expected Number of Deaths: kind=-1\n"
     ]
    }
   ],
   "source": [
    "from ema_workbench import ScalarOutcome, Scenario\n",
    "\n",
    "# List of outcomes you want to optimize\n",
    "objectives = ['Expected Annual Damage', 'Expected Number of Deaths']\n",
    "\n",
    "# # Loop over all outcomes\n",
    "# for outcome in dike_model.outcomes:\n",
    "#     if outcome.name in objectives:\n",
    "#         outcome.kind = ScalarOutcome.MINIMIZE \n",
    "#     else:\n",
    "#         outcome.kind = ScalarOutcome.INFO  # neutral, will be ignored in optimization\n",
    "\n",
    "\n",
    "for outcome in dike_model.outcomes:\n",
    "    print(f\"{outcome.name}: kind={outcome.kind}\")\n",
    "\n",
    "reference_scenario = Scenario('Reference Scenario', **dict({\n",
    "    'discount rate 0': 2.5,\n",
    "    'discount rate 1': 2.5,\n",
    "    'discount rate 2': 2.5,\n",
    "    'A.0_ID flood wave shape': 4,\n",
    "    'A.1_Bmax': 175,\n",
    "    'A.2_Bmax': 175,\n",
    "    'A.3_Bmax': 175,\n",
    "    'A.4_Bmax': 175,\n",
    "    'A.5_Bmax': 175,\n",
    "    'A.1_pfail': 0.5,\n",
    "    'A.2_pfail': 0.5,\n",
    "    'A.3_pfail': 0.5,\n",
    "    'A.4_pfail': 0.5,\n",
    "    'A.5_pfail': 0.5,\n",
    "    'A.1_Brate': 1.5,\n",
    "    'A.2_Brate': 1.5,\n",
    "    'A.3_Brate': 1.5,\n",
    "    'A.4_Brate': 1.5,\n",
    "    'A.5_Brate': 1.5\n",
    "}))\n",
    "\n"
   ]
  },
  {
   "cell_type": "code",
   "execution_count": 6,
   "id": "1784d64ab7cb75e9",
   "metadata": {
    "ExecuteTime": {
     "end_time": "2025-06-09T22:45:59.188619Z",
     "start_time": "2025-06-09T22:20:13.069756Z"
    }
   },
   "outputs": [
    {
     "name": "stderr",
     "output_type": "stream",
     "text": [
      "[MainProcess/INFO] pool started with 16 workers\n",
      "20005it [32:20, 10.31it/s]                                                     \n",
      "[MainProcess/INFO] optimization completed, found 3 solutions\n",
      "[MainProcess/INFO] terminating pool\n"
     ]
    }
   ],
   "source": [
    "from ema_workbench.em_framework.optimization import ArchiveLogger, EpsilonProgress\n",
    "convergence_metrics = [EpsilonProgress()]\n",
    "# Epsilon values are the ones close to the average value of the outcome, based on exploration and problem formulation.ipynb\n",
    "#epsilons = [5e7,5e7,5e8,4e3,4]\n",
    "epsilons = [3e7,3e7,2e8,4e3,2]\n",
    "with MultiprocessingEvaluator(dike_model) as evaluator:\n",
    "    results1, convergence = evaluator.optimize(nfe=20000, searchover='levers',  epsilons=epsilons, reference=reference_scenario,)"
   ]
  },
  {
   "cell_type": "code",
   "execution_count": 7,
   "id": "2fef8877b831384",
   "metadata": {},
   "outputs": [
    {
     "data": {
      "image/png": "[encoded data removed]",
      "text/plain": [
       "<Figure size 640x480 with 4 Axes>"
      ]
     },
     "metadata": {},
     "output_type": "display_data"
    }
   ],
   "source": [
    "data = results1.loc[:, [o.name for o in dike_model.outcomes]]\n",
    "limits = parcoords.get_limits(data)\n",
    "\n",
    "paraxes = parcoords.ParallelAxes(limits)\n",
    "paraxes.plot(data)\n",
    "plt.show()"
   ]
  },
  {
   "cell_type": "code",
   "execution_count": 8,
   "id": "24b257be",
   "metadata": {},
   "outputs": [
    {
     "data": {
      "text/html": [
       "<div>\n",
       "<style scoped>\n",
       "    .dataframe tbody tr th:only-of-type {\n",
       "        vertical-align: middle;\n",
       "    }\n",
       "\n",
       "    .dataframe tbody tr th {\n",
       "        vertical-align: top;\n",
       "    }\n",
       "\n",
       "    .dataframe thead th {\n",
       "        text-align: right;\n",
       "    }\n",
       "</style>\n",
       "<table border=\"1\" class=\"dataframe\">\n",
       "  <thead>\n",
       "    <tr style=\"text-align: right;\">\n",
       "      <th></th>\n",
       "      <th>0_RfR 0</th>\n",
       "      <th>0_RfR 1</th>\n",
       "      <th>0_RfR 2</th>\n",
       "      <th>1_RfR 0</th>\n",
       "      <th>1_RfR 1</th>\n",
       "      <th>1_RfR 2</th>\n",
       "      <th>2_RfR 0</th>\n",
       "      <th>2_RfR 1</th>\n",
       "      <th>2_RfR 2</th>\n",
       "      <th>3_RfR 0</th>\n",
       "      <th>3_RfR 1</th>\n",
       "      <th>3_RfR 2</th>\n",
       "      <th>4_RfR 0</th>\n",
       "      <th>4_RfR 1</th>\n",
       "      <th>4_RfR 2</th>\n",
       "      <th>EWS_DaysToThreat</th>\n",
       "      <th>A.1_DikeIncrease 0</th>\n",
       "      <th>A.1_DikeIncrease 1</th>\n",
       "      <th>A.1_DikeIncrease 2</th>\n",
       "      <th>A.2_DikeIncrease 0</th>\n",
       "      <th>A.2_DikeIncrease 1</th>\n",
       "      <th>A.2_DikeIncrease 2</th>\n",
       "      <th>A.3_DikeIncrease 0</th>\n",
       "      <th>A.3_DikeIncrease 1</th>\n",
       "      <th>A.3_DikeIncrease 2</th>\n",
       "      <th>A.4_DikeIncrease 0</th>\n",
       "      <th>A.4_DikeIncrease 1</th>\n",
       "      <th>A.4_DikeIncrease 2</th>\n",
       "      <th>A.5_DikeIncrease 0</th>\n",
       "      <th>A.5_DikeIncrease 1</th>\n",
       "      <th>A.5_DikeIncrease 2</th>\n",
       "    </tr>\n",
       "  </thead>\n",
       "  <tbody>\n",
       "    <tr>\n",
       "      <th>0</th>\n",
       "      <td>0</td>\n",
       "      <td>0</td>\n",
       "      <td>1</td>\n",
       "      <td>0</td>\n",
       "      <td>0</td>\n",
       "      <td>0</td>\n",
       "      <td>1</td>\n",
       "      <td>1</td>\n",
       "      <td>1</td>\n",
       "      <td>0</td>\n",
       "      <td>0</td>\n",
       "      <td>1</td>\n",
       "      <td>0</td>\n",
       "      <td>0</td>\n",
       "      <td>0</td>\n",
       "      <td>3</td>\n",
       "      <td>0</td>\n",
       "      <td>0</td>\n",
       "      <td>0</td>\n",
       "      <td>0</td>\n",
       "      <td>0</td>\n",
       "      <td>0</td>\n",
       "      <td>1</td>\n",
       "      <td>0</td>\n",
       "      <td>0</td>\n",
       "      <td>6</td>\n",
       "      <td>7</td>\n",
       "      <td>7</td>\n",
       "      <td>5</td>\n",
       "      <td>4</td>\n",
       "      <td>5</td>\n",
       "    </tr>\n",
       "    <tr>\n",
       "      <th>1</th>\n",
       "      <td>1</td>\n",
       "      <td>0</td>\n",
       "      <td>0</td>\n",
       "      <td>0</td>\n",
       "      <td>0</td>\n",
       "      <td>0</td>\n",
       "      <td>0</td>\n",
       "      <td>1</td>\n",
       "      <td>0</td>\n",
       "      <td>0</td>\n",
       "      <td>0</td>\n",
       "      <td>0</td>\n",
       "      <td>0</td>\n",
       "      <td>0</td>\n",
       "      <td>0</td>\n",
       "      <td>3</td>\n",
       "      <td>0</td>\n",
       "      <td>0</td>\n",
       "      <td>0</td>\n",
       "      <td>0</td>\n",
       "      <td>0</td>\n",
       "      <td>0</td>\n",
       "      <td>2</td>\n",
       "      <td>0</td>\n",
       "      <td>0</td>\n",
       "      <td>6</td>\n",
       "      <td>2</td>\n",
       "      <td>3</td>\n",
       "      <td>4</td>\n",
       "      <td>7</td>\n",
       "      <td>6</td>\n",
       "    </tr>\n",
       "    <tr>\n",
       "      <th>2</th>\n",
       "      <td>0</td>\n",
       "      <td>0</td>\n",
       "      <td>1</td>\n",
       "      <td>0</td>\n",
       "      <td>0</td>\n",
       "      <td>0</td>\n",
       "      <td>1</td>\n",
       "      <td>1</td>\n",
       "      <td>1</td>\n",
       "      <td>0</td>\n",
       "      <td>0</td>\n",
       "      <td>0</td>\n",
       "      <td>0</td>\n",
       "      <td>0</td>\n",
       "      <td>0</td>\n",
       "      <td>3</td>\n",
       "      <td>0</td>\n",
       "      <td>0</td>\n",
       "      <td>0</td>\n",
       "      <td>3</td>\n",
       "      <td>0</td>\n",
       "      <td>0</td>\n",
       "      <td>0</td>\n",
       "      <td>0</td>\n",
       "      <td>0</td>\n",
       "      <td>9</td>\n",
       "      <td>3</td>\n",
       "      <td>2</td>\n",
       "      <td>6</td>\n",
       "      <td>7</td>\n",
       "      <td>5</td>\n",
       "    </tr>\n",
       "  </tbody>\n",
       "</table>\n",
       "</div>"
      ],
      "text/plain": [
       "   0_RfR 0  0_RfR 1  0_RfR 2  1_RfR 0  1_RfR 1  1_RfR 2  2_RfR 0  2_RfR 1  \\\n",
       "0        0        0        1        0        0        0        1        1   \n",
       "1        1        0        0        0        0        0        0        1   \n",
       "2        0        0        1        0        0        0        1        1   \n",
       "\n",
       "   2_RfR 2  3_RfR 0  3_RfR 1  3_RfR 2  4_RfR 0  4_RfR 1  4_RfR 2  \\\n",
       "0        1        0        0        1        0        0        0   \n",
       "1        0        0        0        0        0        0        0   \n",
       "2        1        0        0        0        0        0        0   \n",
       "\n",
       "   EWS_DaysToThreat  A.1_DikeIncrease 0  A.1_DikeIncrease 1  \\\n",
       "0                 3                   0                   0   \n",
       "1                 3                   0                   0   \n",
       "2                 3                   0                   0   \n",
       "\n",
       "   A.1_DikeIncrease 2  A.2_DikeIncrease 0  A.2_DikeIncrease 1  \\\n",
       "0                   0                   0                   0   \n",
       "1                   0                   0                   0   \n",
       "2                   0                   3                   0   \n",
       "\n",
       "   A.2_DikeIncrease 2  A.3_DikeIncrease 0  A.3_DikeIncrease 1  \\\n",
       "0                   0                   1                   0   \n",
       "1                   0                   2                   0   \n",
       "2                   0                   0                   0   \n",
       "\n",
       "   A.3_DikeIncrease 2  A.4_DikeIncrease 0  A.4_DikeIncrease 1  \\\n",
       "0                   0                   6                   7   \n",
       "1                   0                   6                   2   \n",
       "2                   0                   9                   3   \n",
       "\n",
       "   A.4_DikeIncrease 2  A.5_DikeIncrease 0  A.5_DikeIncrease 1  \\\n",
       "0                   7                   5                   4   \n",
       "1                   3                   4                   7   \n",
       "2                   2                   6                   7   \n",
       "\n",
       "   A.5_DikeIncrease 2  \n",
       "0                   5  \n",
       "1                   6  \n",
       "2                   5  "
      ]
     },
     "execution_count": 8,
     "metadata": {},
     "output_type": "execute_result"
    }
   ],
   "source": [
    "# Get the lever names from your model\n",
    "lever_names = [lever.name for lever in dike_model.levers]\n",
    "\n",
    "# Extract only the levers (i.e., policies) into a new DataFrame\n",
    "policies_df = results1[lever_names]\n",
    "\n",
    "pd.set_option('display.max_columns', 50)\n",
    "policies_df.head()"
   ]
  },
  {
   "metadata": {},
   "cell_type": "code",
   "outputs": [],
   "execution_count": null,
   "source": [
    "fig, ax = plt.subplots(ncols=1, sharex=True, figsize=(8,4))\n",
    "ax.plot(convergence.nfe, convergence.epsilon_progress)\n",
    "ax.set_ylabel('$\\epsilon$-progress')\n",
    "ax.set_xlabel('number of function evaluations reference scenario')\n",
    "plt.show"
   ],
   "id": "aefff584be81233a"
  }
 ],
 "metadata": {
  "kernelspec": {
   "display_name": "gds24",
   "language": "python",
   "name": "python3"
  },
  "language_info": {
   "codemirror_mode": {
    "name": "ipython",
    "version": 3
   },
   "file_extension": ".py",
   "mimetype": "text/x-python",
   "name": "python",
   "nbconvert_exporter": "python",
   "pygments_lexer": "ipython3",
   "version": "3.10.15"
  }
 },
 "nbformat": 4,
 "nbformat_minor": 5
}
